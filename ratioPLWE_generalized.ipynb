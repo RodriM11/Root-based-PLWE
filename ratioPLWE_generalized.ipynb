{
 "cells": [
  {
   "cell_type": "markdown",
   "metadata": {
    "id": "oTPYurWe-ZKx"
   },
   "source": [
    "# PLWE attack"
   ]
  },
  {
   "cell_type": "markdown",
   "metadata": {
    "id": "vjxFeq02Jdgo"
   },
   "source": [
    "Notebook to analyze generalized root-based attacks over small error values, in terms of the \"distribution ratio\" r = q/(sqrt(2) * sigma_dist)"
   ]
  },
  {
   "cell_type": "markdown",
   "metadata": {},
   "source": [
    "# Preliminaries"
   ]
  },
  {
   "cell_type": "code",
   "execution_count": 75,
   "metadata": {},
   "outputs": [],
   "source": [
    "# work with number fields, primes\n",
    "import galois, sympy\n",
    "# parallelized executions\n",
    "from joblib import Parallel, delayed\n",
    "# useful math functions for root-based calculations\n",
    "from math import erf, ceil, sqrt, floor, isnan\n",
    "# Iterate process\n",
    "import numpy as np\n",
    "# Big numbers\n",
    "import decimal\n",
    "#Pickle data\n",
    "import pickle\n",
    "#Random subset selection\n",
    "import random\n",
    "# Graphs\n",
    "import matplotlib.pyplot as plt\n",
    "# Handle big numbers\n",
    "import sys\n",
    "# Track progress\n",
    "from tqdm import tqdm\n",
    "# Interpolate\n",
    "from scipy.interpolate import interp1d"
   ]
  },
  {
   "cell_type": "markdown",
   "metadata": {},
   "source": [
    "Auxiliary process to save long computations"
   ]
  },
  {
   "cell_type": "code",
   "execution_count": null,
   "metadata": {},
   "outputs": [],
   "source": [
    "def save_data(data, filename):\n",
    "    file = open(filename, 'wb')\n",
    "    # dump information to that file\n",
    "    pickle.dump(data, file)\n",
    "    # close the file\n",
    "    file.close()\n",
    "    \n",
    "def load_data(filename):\n",
    "    # open a file, where you stored the pickled data\n",
    "    file = open(filename, 'rb')\n",
    "    # dump information to that file\n",
    "    data = pickle.load(file)\n",
    "    # close the file\n",
    "    file.close()\n",
    "\n",
    "    return data"
   ]
  },
  {
   "cell_type": "code",
   "execution_count": 2,
   "metadata": {},
   "outputs": [],
   "source": [
    "#Auxiliar Pow version\n",
    "def myPow(x: float, n: int) -> float:\n",
    "    if n == 0:\n",
    "        return 1.0\n",
    "    elif x >= sys.float_info.max:\n",
    "        return float('inf')\n",
    "    elif n < 0:\n",
    "        return 1 / myPow(x, -n)\n",
    "    elif n % 2:\n",
    "        return myPow(x * x, n // 2) * x\n",
    "    else:\n",
    "        return myPow(x * x, n // 2)"
   ]
  },
  {
   "cell_type": "code",
   "execution_count": 76,
   "metadata": {},
   "outputs": [],
   "source": [
    "#Definitions of each distribution case\n",
    "def case_distribution_1(n, sigma):\n",
    "    quot = 1\n",
    "    factor = myPow(sigma, 2)*n\n",
    "    return sqrt(factor*quot)\n",
    "\n",
    "def case_distribution_2(n, sigma, root, ord):\n",
    "    quot = (myPow(root, 2*ord) - 1)//(myPow(root, 2) - 1)\n",
    "    factor = (n/ord)*myPow(sigma, 2)\n",
    "    return sqrt(factor*quot)\n",
    "\n",
    "def case_distribution_3(n, sigma, root):\n",
    "    quot = (myPow(root, 2*n) - 1)//(myPow(root, 2) - 1)\n",
    "    factor = myPow(sigma, 2)\n",
    "    return sqrt(factor*quot)\n",
    "\n",
    "def case_distribution_4(n, sigma, root):\n",
    "    quot = myPow(root, n)//sqrt(myPow(root, 2) - 1)\n",
    "    factor = sigma\n",
    "    return factor*quot"
   ]
  },
  {
   "cell_type": "code",
   "execution_count": 4,
   "metadata": {
    "id": "kayKtuR-JeMn"
   },
   "outputs": [],
   "source": [
    "def A(r):\n",
    "    return (erf(r/4))/2\n",
    "\n",
    "def N(r):\n",
    "    return (sqrt(2)/r) - (1/2)\n",
    "\n",
    "def Bterm(k, r):\n",
    "    return (erf(r*(k + (5/4))) - erf(r*(k + (3/4))))/2\n",
    "\n",
    "def B(r, j):\n",
    "    value = 0.0\n",
    "    for k in range(j):\n",
    "        value += Bterm(k , r)\n",
    "    return value\n",
    "\n",
    "def I(r, j):\n",
    "    return 2*(A(r) + B(r, j))\n",
    "\n",
    "simulation = 10\n",
    "\n",
    "def Icota(r):\n",
    "    j = simulation*ceil(N(r))\n",
    "    return 2*(A(r) + B(r, j))"
   ]
  },
  {
   "cell_type": "code",
   "execution_count": 93,
   "metadata": {},
   "outputs": [],
   "source": [
    "def success_check(ratio, q):\n",
    "    if q % 4 == 1:\n",
    "        check = 1/2 + 1/(2*q)\n",
    "    elif q % 4 == 3:\n",
    "        check = 1/2 - 1/(2*q)\n",
    "    else:\n",
    "        return 0\n",
    "\n",
    "    return ratio - check"
   ]
  },
  {
   "cell_type": "markdown",
   "metadata": {},
   "source": [
    "# Interpolation analysis of probability value $P(E_i | D = G_{\\sigma})$"
   ]
  },
  {
   "cell_type": "markdown",
   "metadata": {},
   "source": [
    "The probability value, marked by the 'error' function, is costly to compute, particularlly among very small ratios (given on huge image Gaussian standard deviations). Therefore, it can be an interesting analysis to interpolate this value to get an approximation of the likelihood of the attack's applicability."
   ]
  },
  {
   "cell_type": "code",
   "execution_count": 85,
   "metadata": {},
   "outputs": [
    {
     "name": "stderr",
     "output_type": "stream",
     "text": [
      "Processing: 100%|████████████████████████████████████████████████████████████████████████████████████████████████████| 1000/1000 [1:12:58<00:00,  4.38s/it]\n"
     ]
    }
   ],
   "source": [
    "precision = 1000\n",
    "xcoord=[]\n",
    "ycoord=[]\n",
    "lower_limit = 0\n",
    "upper_limit = 1 * 10**(-5)\n",
    "\n",
    "iterable = np.linspace(lower_limit, upper_limit, precision)\n",
    "\n",
    "for x in tqdm(iterable, desc=\"Processing\"):\n",
    "    if x == 0:\n",
    "      continue\n",
    "        \n",
    "    y = Icota(x)\n",
    "    xcoord.append(x)\n",
    "    ycoord.append(y)"
   ]
  },
  {
   "cell_type": "code",
   "execution_count": 86,
   "metadata": {},
   "outputs": [],
   "source": [
    "save_data(xcoord, 'interpolation_Inputs')\n",
    "save_data(ycoord, 'interpolation_Outputs')"
   ]
  },
  {
   "cell_type": "code",
   "execution_count": null,
   "metadata": {},
   "outputs": [],
   "source": [
    "xcoord = load_data('interpolation_Inputs')\n",
    "ycoord = load_data('interpolation_Outputs')"
   ]
  },
  {
   "cell_type": "code",
   "execution_count": 87,
   "metadata": {},
   "outputs": [],
   "source": [
    "interpolator = interp1d(xcoord, ycoord, kind='linear', fill_value=\"extrapolate\")\n",
    "\n",
    "def Icota_interpolated(r):\n",
    "    return interpolator(r)"
   ]
  },
  {
   "cell_type": "markdown",
   "metadata": {},
   "source": [
    "Function plot:"
   ]
  },
  {
   "cell_type": "code",
   "execution_count": 88,
   "metadata": {},
   "outputs": [
    {
     "data": {
      "image/png": "[encoded data removed]",
      "text/plain": [
       "<Figure size 640x480 with 1 Axes>"
      ]
     },
     "metadata": {},
     "output_type": "display_data"
    }
   ],
   "source": [
    "fig, ax = plt.subplots()\n",
    "l, = ax.plot(xcoord, ycoord, 'r-')\n",
    "\n",
    "plt.show()"
   ]
  },
  {
   "cell_type": "markdown",
   "metadata": {
    "id": "8NMpdWGn-fqy"
   },
   "source": [
    "# Cyclotomic root search over finite fields"
   ]
  },
  {
   "cell_type": "markdown",
   "metadata": {},
   "source": [
    "We define cyclotomic polynomials in order to get either their roots over $\\mathbb{F}_q$ or their $k$-ideal factors."
   ]
  },
  {
   "cell_type": "code",
   "execution_count": 6,
   "metadata": {
    "id": "x6mpngoLAL4E"
   },
   "outputs": [],
   "source": [
    "# Returns the cyclotomic polynomial of the form x^N + 1\n",
    "def cyclotomic_min_pol_power_of_two(N, q):\n",
    "    return galois.Poly.Degrees([N, 0], coeffs=[1, 1], field=galois.GF(q))\n",
    "\n",
    "# Returns the cyclotomic polynomial of the form x^(p-1) + ... + x + 1\n",
    "def cyclotomic_min_pol_prime(N, q):\n",
    "    degrees = list(range(N))[::-1]\n",
    "    coeffs = [1 for x in range(N)]\n",
    "    return galois.Poly.Degrees(degrees, coeffs = coeffs, field=galois.GF(q))\n",
    "\n",
    "# Process to get roots and k-ideal factors of a certain cyclotomic polynomial\n",
    "def process_outer_task_min_total_info(N, q, prime):\n",
    "    # min pol\n",
    "    if prime == True:\n",
    "        #prime cyclotomic\n",
    "        pol = cyclotomic_min_pol_prime(N, q)\n",
    "    else:\n",
    "        # power-of-two cyclotomic\n",
    "        pol = cyclotomic_min_pol_power_of_two(N, q)\n",
    "    total_info = []\n",
    "    \n",
    "    # roots info \n",
    "    list_roots_info = [(int(x), x.multiplicative_order()) for x in pol.roots()]\n",
    "\n",
    "    # k-ideal factors info\n",
    "    list_factors_info = []\n",
    "    factors, multiplicities = pol.factors()\n",
    "    for k in range(2, 5):\n",
    "        list_terms = []\n",
    "        for g in factors:\n",
    "            if g.degree == k:\n",
    "                non_zero_degrees = [int(x) for x in g.nonzero_degrees]\n",
    "                if len(non_zero_degrees) == 2 and non_zero_degrees[1] == 0:\n",
    "                    non_zero_coeffs = [x for x in g.nonzero_coeffs]\n",
    "                    independent_term = int(-non_zero_coeffs[1])\n",
    "                    order_independent_term = (-non_zero_coeffs[1]).multiplicative_order()\n",
    "                    list_terms.append((independent_term, order_independent_term))\n",
    "        if len(list_terms) > 0:\n",
    "            list_factors_info.append((k, list_terms))\n",
    "\n",
    "    total_info.append((N, q, list_roots_info, list_factors_info))\n",
    "    #return all information\n",
    "    return total_info\n",
    "\n",
    "def parallelized_task_min_pol_total_info_cyclotomic(list_N_values, list_q_values, prime=False):\n",
    "    # get total info\n",
    "    list_min_pols_total_info = []\n",
    "    results = Parallel(n_jobs=-1)(delayed(process_outer_task_min_total_info)(N, q, prime)\n",
    "                                  for N in list_N_values\n",
    "                                  for q in list_q_values)\n",
    "\n",
    "    for result in results:\n",
    "        list_min_pols_total_info.extend(result)\n",
    "    return list_min_pols_total_info"
   ]
  },
  {
   "cell_type": "code",
   "execution_count": 7,
   "metadata": {},
   "outputs": [],
   "source": [
    "def get_roots_info(list_total_info):\n",
    "    list_roots_info = []\n",
    "    for (N, q, roots, factors) in list_total_info:\n",
    "        list_roots_info.append((N, q, roots))\n",
    "    return list_roots_info\n",
    "\n",
    "def get_factors_info(list_total_info):\n",
    "    list_factors_info = []\n",
    "    for (N, q, roots, factors) in list_total_info:\n",
    "        list_factors_info.append((N, q, factors))\n",
    "    return list_factors_info"
   ]
  },
  {
   "cell_type": "code",
   "execution_count": 22,
   "metadata": {},
   "outputs": [],
   "source": [
    "def get_best_elem(list_elem_info, k):\n",
    "    best_result = float('inf')\n",
    "    min_value = None\n",
    "    min_order = None\n",
    "    for (value, order) in list_elem_info:\n",
    "        result = myPow(value, order//k)\n",
    "        if result < best_result:\n",
    "            best_result = result\n",
    "            min_value = value\n",
    "            min_order = order\n",
    "    return [(min_value, min_order)]"
   ]
  },
  {
   "cell_type": "markdown",
   "metadata": {},
   "source": [
    "# Small error value attack computations"
   ]
  },
  {
   "cell_type": "code",
   "execution_count": 95,
   "metadata": {},
   "outputs": [],
   "source": [
    "# Get Small Error Values change of each instance\n",
    "def likelihood_small_err_values_chances_raw(N, q, sigma, alpha, order, interpolated=False):\n",
    "    if alpha == None:\n",
    "        # not a root\n",
    "        return 0\n",
    "    if order == 1:\n",
    "        sigma_image = case_distribution_1(N, sigma)\n",
    "    elif order < 5:\n",
    "        sigma_image = case_distribution_2(N, sigma, alpha, order)\n",
    "    else:\n",
    "        sigma_image = case_distribution_3(N, sigma, alpha)\n",
    "        if isnan(sigma_image):\n",
    "            # try an approximate version that reduces the numeric computations\n",
    "            sigma_image = case_distribution_4(N, sigma, alpha)\n",
    "        if isnan(sigma_image):\n",
    "            return 0\n",
    "    if (q/4 < 2*sigma_image):\n",
    "        ratio = q/(sqrt(2) * sigma_image)\n",
    "        if interpolated:\n",
    "            return Icota_interpolated(ratio)\n",
    "        else:\n",
    "            return Icota(ratio)\n",
    "    else:\n",
    "        return 1\n",
    "\n",
    "# Get Small Error Values change of each instance\n",
    "def likelihood_small_err_values_chances(N, q, sigma, alpha, order, interpolated=False):\n",
    "\n",
    "    r = likelihood_small_err_values_chances_raw(N, q, sigma, alpha, order, interpolated)\n",
    "    return success_check(r, q)\n",
    "\n",
    "# Main parallelized execution\n",
    "def parallelized_task_small_err_values_chances(list_total_info, sigma, applyFilter=False, interpolated=False):\n",
    "    list_chances_sva = []\n",
    "    (N, q, roots_info) = get_roots_info(list_total_info)[0]\n",
    "    # check for empty lists\n",
    "    if len(roots_info) == 0:\n",
    "        return list_chances_sva\n",
    "    # filter by smallest image Gaussian\n",
    "    if applyFilter:\n",
    "        roots_info = get_best_elem(roots_info, 1)\n",
    "    results = Parallel(n_jobs=-1)(delayed(likelihood_small_err_values_chances)(N, q, sigma, alpha, order, interpolated)\n",
    "                                  for (alpha, order) in roots_info)\n",
    "    for result in results:\n",
    "        list_chances_sva.append(result)\n",
    "    return list_chances_sva\n",
    "\n",
    "def likelihood_small_err_values_chances_k_ideals(N, q, sigma, value, order, k, interpolated=False):\n",
    "    if value == None:\n",
    "        # not a real k-ideal factor\n",
    "        return 0\n",
    "    n = N//k\n",
    "    if order == 1:\n",
    "        sigma_image = case_distribution_1(n, sigma)\n",
    "    elif order < 5:\n",
    "        sigma_image = case_distribution_2(n, sigma, value, order)\n",
    "    else:\n",
    "        sigma_image = case_distribution_3(n, sigma, value)\n",
    "        if isnan(sigma_image):\n",
    "            # try an approximate version that reduces the numeric computations\n",
    "            sigma_image = case_distribution_4(n, sigma, value)\n",
    "        if isnan(sigma_image):\n",
    "            return 0\n",
    "    if (q/4 < 2*sigma_image):\n",
    "        ratio = q/(sqrt(2) * sigma_image)\n",
    "        if interpolated:\n",
    "            return success_check(Icota_interpolated(ratio), q)\n",
    "        else:\n",
    "            return success_check(Icota(ratio), q)\n",
    "    else:\n",
    "        return 1\n",
    "\n",
    "# Main parallelized execution\n",
    "def parallelized_task_small_err_values_chances_k_ideals(list_total_info, sigma, applyFilter=False, interpolated=False):\n",
    "    list_chances_sva = []\n",
    "    (N, q, factors_info) = get_factors_info(list_total_info)[0]\n",
    "    if len(factors_info) == 0:\n",
    "        return list_chances_sva\n",
    "    (k, factor_elems) = factors_info[0]\n",
    "    # filter by smallest image Gaussian\n",
    "    if applyFilter:\n",
    "        roots_info = get_best_elem(factor_elems, k)\n",
    "    results = Parallel(n_jobs=-1)(delayed(likelihood_small_err_values_chances_k_ideals)(N, q, sigma, value, order, k, interpolated)\n",
    "                                  for (value, order) in factor_elems)\n",
    "    for result in results:\n",
    "        list_chances_sva.append(result)\n",
    "    return list_chances_sva\n",
    "\n",
    "def small_err_value_ratio(list_chances_sva):\n",
    "    if len(list_chances_sva) == 0:\n",
    "        return 0.0\n",
    "    return len([p for p in list_chances_sva if p > 0])/len(list_chances_sva)"
   ]
  },
  {
   "cell_type": "markdown",
   "metadata": {
    "id": "ya_sWD8vjMZm"
   },
   "source": [
    "# Estimation of attack likelihood of practical instances"
   ]
  },
  {
   "cell_type": "markdown",
   "metadata": {},
   "source": [
    "ML-KEM setting (q = 3329, N = 256)"
   ]
  },
  {
   "cell_type": "code",
   "execution_count": 30,
   "metadata": {},
   "outputs": [],
   "source": [
    "list_mlkem = parallelized_task_min_pol_total_info_cyclotomic([256], [3329])"
   ]
  },
  {
   "cell_type": "code",
   "execution_count": 96,
   "metadata": {},
   "outputs": [
    {
     "data": {
      "text/plain": [
       "0.0"
      ]
     },
     "execution_count": 96,
     "metadata": {},
     "output_type": "execute_result"
    }
   ],
   "source": [
    "small_err_value_ratio(parallelized_task_small_err_values_chances_k_ideals(list_mlkem, 2, True, True))"
   ]
  },
  {
   "cell_type": "markdown",
   "metadata": {},
   "source": [
    "ML-DSA (q = 8380417, N = 256)"
   ]
  },
  {
   "cell_type": "code",
   "execution_count": 31,
   "metadata": {},
   "outputs": [],
   "source": [
    "list_mldsa = parallelized_task_min_pol_total_info_cyclotomic([256], [8380417])"
   ]
  },
  {
   "cell_type": "code",
   "execution_count": 34,
   "metadata": {},
   "outputs": [
    {
     "data": {
      "text/plain": [
       "0.0"
      ]
     },
     "execution_count": 34,
     "metadata": {},
     "output_type": "execute_result"
    }
   ],
   "source": [
    "small_err_value_ratio(parallelized_task_small_err_values_chances(list_mldsa, 2))"
   ]
  },
  {
   "cell_type": "markdown",
   "metadata": {},
   "source": [
    "# Example: Case Distribution 2)"
   ]
  },
  {
   "cell_type": "markdown",
   "metadata": {},
   "source": [
    "Example instance thought not to be applicable, but is due to refined bound"
   ]
  },
  {
   "cell_type": "code",
   "execution_count": 110,
   "metadata": {},
   "outputs": [
    {
     "data": {
      "text/plain": [
       "(0.49999999999999806, 0.00015010507354956681)"
      ]
     },
     "execution_count": 110,
     "metadata": {},
     "output_type": "execute_result"
    }
   ],
   "source": [
    "sigma = 8\n",
    "degree = 256\n",
    "q = 3331\n",
    "alpha = q-1\n",
    "order = 2\n",
    "\n",
    "r = likelihood_small_err_values_chances_raw(degree, q, sigma, alpha, order)\n",
    "r, success_check(r, q)"
   ]
  },
  {
   "cell_type": "markdown",
   "metadata": {},
   "source": [
    "Example instance thought to be applicable, but is not due to refined bound"
   ]
  },
  {
   "cell_type": "code",
   "execution_count": 112,
   "metadata": {},
   "outputs": [
    {
     "data": {
      "text/plain": [
       "(0.5000000000000001, -0.00012459506603523796)"
      ]
     },
     "execution_count": 112,
     "metadata": {},
     "output_type": "execute_result"
    }
   ],
   "source": [
    "sigma = 8\n",
    "degree = 256\n",
    "q = 4013\n",
    "alpha = q-1\n",
    "order = 2\n",
    "\n",
    "r = likelihood_small_err_values_chances_raw(degree, q, sigma, alpha, order)\n",
    "r, success_check(r, q)"
   ]
  },
  {
   "cell_type": "markdown",
   "metadata": {},
   "source": [
    "# Example: Case Distribution 3)"
   ]
  },
  {
   "cell_type": "markdown",
   "metadata": {},
   "source": [
    "Example instance thought not to be applicable, but is due to refined bound"
   ]
  },
  {
   "cell_type": "code",
   "execution_count": 42,
   "metadata": {},
   "outputs": [
    {
     "data": {
      "text/plain": [
       "(0.499999999999982, 0.0001731901627807786)"
      ]
     },
     "execution_count": 42,
     "metadata": {},
     "output_type": "execute_result"
    }
   ],
   "source": [
    "sigma = 8\n",
    "degree = 256\n",
    "q = 2887\n",
    "alpha = 698\n",
    "order = 3\n",
    "\n",
    "r = likelihood_small_err_values_chances_raw(degree, q, sigma, alpha, order)\n",
    "r, success_check(r, q)"
   ]
  },
  {
   "cell_type": "markdown",
   "metadata": {},
   "source": [
    "Example instance thought to be applicable, but is not due to refined bound"
   ]
  },
  {
   "cell_type": "code",
   "execution_count": 72,
   "metadata": {},
   "outputs": [
    {
     "data": {
      "text/plain": [
       "(0.5000000000000161, -0.0001232437761732319)"
      ]
     },
     "execution_count": 72,
     "metadata": {},
     "output_type": "execute_result"
    }
   ],
   "source": [
    "sigma = 8\n",
    "degree = 256\n",
    "q = 4057\n",
    "alpha = 1408\n",
    "order = 3\n",
    "\n",
    "r = likelihood_small_err_values_chances_raw(degree, q, sigma, alpha, order)\n",
    "r, success_check(r, q)"
   ]
  }
 ],
 "metadata": {
  "colab": {
   "provenance": [],
   "toc_visible": true
  },
  "kernelspec": {
   "display_name": "Python 3 (ipykernel)",
   "language": "python",
   "name": "python3"
  },
  "language_info": {
   "codemirror_mode": {
    "name": "ipython",
    "version": 3
   },
   "file_extension": ".py",
   "mimetype": "text/x-python",
   "name": "python",
   "nbconvert_exporter": "python",
   "pygments_lexer": "ipython3",
   "version": "3.11.1"
  }
 },
 "nbformat": 4,
 "nbformat_minor": 4
}
